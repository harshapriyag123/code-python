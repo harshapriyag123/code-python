{
  "nbformat": 4,
  "nbformat_minor": 0,
  "metadata": {
    "colab": {
      "provenance": []
    },
    "kernelspec": {
      "name": "python3",
      "display_name": "Python 3"
    },
    "language_info": {
      "name": "python"
    }
  },
  "cells": [
    {
      "cell_type": "code",
      "source": [
        "# Python - Weather Forecasting Tool\n",
        "import requests\n",
        "import json\n",
        "\n",
        "def fetch_weather(city_name, api_key):\n",
        "    url = f\"http://api.openweathermap.org/data/2.5/weather?q={city_name}&appid={api_key}&units=metric\"\n",
        "    response = requests.get(url)\n",
        "\n",
        "    if response.status_code == 200:\n",
        "        return response.json()\n",
        "    else:\n",
        "        raise Exception(\"Failed to fetch weather data.\")\n",
        "\n",
        "def parse_weather_data(weather_data):\n",
        "    weather_info = {\n",
        "        \"city\": weather_data[\"name\"],\n",
        "        \"temperature\": weather_data[\"main\"][\"temp\"],\n",
        "        \"description\": weather_data[\"weather\"][0][\"description\"]\n",
        "    }\n",
        "    return weather_info\n",
        "\n",
        "def display_weather(weather_info):\n",
        "    print(f\"Weather forecast for {weather_info['city']}:\")\n",
        "    print(f\"Temperature: {weather_info['temperature']}°C\")\n",
        "    print(f\"Description: {weather_info['description']}\")\n",
        "\n",
        "def main():\n",
        "    city_name = input(\"Enter the city name: \")\n",
        "    api_key = input(\"Enter your OpenWeatherMap API key: \")\n",
        "\n",
        "    try:\n",
        "        weather_data = fetch_weather(city_name, api_key)\n",
        "        weather_info = parse_weather_data(weather_data)\n",
        "        display_weather(weather_info)\n",
        "    except Exception as e:\n",
        "        print(\"An error occurred:\", str(e))\n",
        "\n",
        "if __name__ == \"__main__\":\n",
        "    main()\n"
      ],
      "metadata": {
        "colab": {
          "base_uri": "https://localhost:8080/"
        },
        "id": "y-hW-uLG3ih5",
        "outputId": "95a5143c-83c1-4bb8-ddf9-8e3891c5de4c"
      },
      "execution_count": 14,
      "outputs": [
        {
          "output_type": "stream",
          "name": "stdout",
          "text": [
            "Enter the city name: Chennai\n",
            "Enter your OpenWeatherMap API key: a67feca5d5bbf232a5499609ede0f5a6\n",
            "Weather forecast for Chennai:\n",
            "Temperature: 31.99°C\n",
            "Description: scattered clouds\n"
          ]
        }
      ]
    }
  ]
}